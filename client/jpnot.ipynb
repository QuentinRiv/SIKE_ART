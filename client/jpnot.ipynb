{
 "metadata": {
  "language_info": {
   "codemirror_mode": {
    "name": "ipython",
    "version": 3
   },
   "file_extension": ".py",
   "mimetype": "text/x-python",
   "name": "python",
   "nbconvert_exporter": "python",
   "pygments_lexer": "ipython3",
   "version": "3.8.2"
  },
  "orig_nbformat": 2,
  "kernelspec": {
   "name": "python3",
   "display_name": "Python 3",
   "language": "python"
  }
 },
 "nbformat": 4,
 "nbformat_minor": 2,
 "cells": [
  {
   "cell_type": "code",
   "execution_count": 3,
   "metadata": {},
   "outputs": [
    {
     "output_type": "stream",
     "name": "stderr",
     "text": [
      "c:\\Users\\quent\\Desktop\\Université\\Thèse\\client\\env\\lib\\site-packages\\flask_sqlalchemy\\__init__.py:833: FSADeprecationWarning: SQLALCHEMY_TRACK_MODIFICATIONS adds significant overhead and will be disabled by default in the future.  Set it to True or False to suppress this warning.\n  warnings.warn(FSADeprecationWarning(\n"
     ]
    }
   ],
   "source": [
    "from mysike import SIKE_compute_pk, eA, eB, p, PA, QA, PB, QB, A\n",
    "from numpy import random\n",
    "from client import app\n",
    "from classes import db, OneTimeKey\n"
   ]
  },
  {
   "cell_type": "code",
   "execution_count": 6,
   "metadata": {
    "tags": []
   },
   "outputs": [
    {
     "output_type": "stream",
     "name": "stdout",
     "text": [
      "739 ms ± 14.1 ms per loop (mean ± std. dev. of 7 runs, 100 loops each)\n"
     ]
    }
   ],
   "source": [
    "%timeit -n 100 for i in range(100) : SIKE_compute_pk(random.randint(1, 3**eB), 'receiver')"
   ]
  },
  {
   "cell_type": "code",
   "execution_count": 27,
   "metadata": {},
   "outputs": [
    {
     "output_type": "stream",
     "name": "stdout",
     "text": [
      "3.08 s ± 95.7 ms per loop (mean ± std. dev. of 7 runs, 10 loops each)\n",
      "2.14 s ± 167 ms per loop (mean ± std. dev. of 7 runs, 10 loops each)\n",
      "2.26 s ± 123 ms per loop (mean ± std. dev. of 7 runs, 10 loops each)\n"
     ]
    }
   ],
   "source": [
    "from time import sleep\n",
    "import requests\n",
    "from cryptography.hazmat.primitives.asymmetric.x25519 import X25519PrivateKey\n",
    "# Calcul des paires OTK, privées et publiques\n",
    "def generate_otk(name, method):\n",
    "    j = 1\n",
    "\n",
    "    response = requests.get(\"http://127.0.0.1:5000/onetimekey\")\n",
    "    last_index = int(response.text)\n",
    "    all_otks = []\n",
    "    for i in range(100):\n",
    "        \n",
    "        if method==\"sike27\":\n",
    "            private_key = random.randint(1, min(2**eA, 3**eB))\n",
    "            public_key = SIKE_compute_pk(private_key, \"receiver\")\n",
    "        elif method==\"ecdh\":\n",
    "            private_key = X25519PrivateKey.generate()\n",
    "            public_key = X25519PrivateKey.generate().public_key()\n",
    "        elif method==\"SIKE751\":\n",
    "            private_key = random.randint(1, min(2**eA, 3**eB))\n",
    "            public_key = 12345678\n",
    "            \n",
    "        otk = {'owner': name, 'publicOTK': repr(public_key)}\n",
    "        all_otks += [otk]\n",
    "\n",
    "        j += 1\n",
    "    if method==\"SIKE751\":\n",
    "        sleep(0.487)\n",
    "\n",
    "    requests.post(\"http://127.0.0.1:5000/onetimekey\", json={'keys' : all_otks})\n",
    "\n",
    "    return \"Done\"\n",
    "\n",
    "%timeit -n 10 generate_otk(str(random.randint(10000)), \"sike27\")\n",
    "%timeit -n 10 generate_otk(str(random.randint(10000)), \"ecdh\")\n",
    "%timeit -n 10 generate_otk(str(random.randint(10000)), \"SIKE751\")"
   ]
  },
  {
   "cell_type": "code",
   "execution_count": 6,
   "metadata": {},
   "outputs": [
    {
     "output_type": "stream",
     "name": "stdout",
     "text": [
      "Time : 0.10194206237792969\n"
     ]
    }
   ],
   "source": [
    "from classes import OneTimeKey\n",
    "import requests\n",
    "from time import time\n",
    "from numpy import random\n",
    "\n",
    "t1 = time()\n",
    "data =  {'name': str(random.randint(1000)), 'members': ['Quentin', 'Bob', 'Charlie']}\n",
    "response = requests.post('http://127.0.0.1:8080/create_group', json=data)\n",
    "t2 = time()\n",
    "print('Time :', t2-t1)"
   ]
  },
  {
   "cell_type": "code",
   "execution_count": 8,
   "metadata": {},
   "outputs": [
    {
     "output_type": "stream",
     "name": "stdout",
     "text": [
      "7.46 ms ± 497 µs per loop (mean ± std. dev. of 7 runs, 100 loops each)\n",
      "776 ms ± 43.1 ms per loop (mean ± std. dev. of 7 runs, 1 loop each)\n"
     ]
    }
   ],
   "source": [
    "from mysike import compute_pk\n",
    "number = random.randint(1, 3**eB)\n",
    "%timeit compute_pk(number, 'receiver', method='sike27')\n",
    "\n",
    "%timeit for _ in range(100): compute_pk(random.randint(1, 3**eB), 'receiver', method='sike27')\n"
   ]
  },
  {
   "cell_type": "code",
   "execution_count": null,
   "metadata": {},
   "outputs": [],
   "source": []
  }
 ]
}